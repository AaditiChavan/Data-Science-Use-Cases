{
 "cells": [
  {
   "cell_type": "code",
   "execution_count": 3,
   "id": "6ca98af8-6bd7-4aa3-9001-b8d933fdba6a",
   "metadata": {},
   "outputs": [],
   "source": [
    "import numpy as np"
   ]
  },
  {
   "cell_type": "code",
   "execution_count": 5,
   "id": "b7bbaca9-9f3a-4dba-8a69-cbd693e6faea",
   "metadata": {},
   "outputs": [
    {
     "name": "stdout",
     "output_type": "stream",
     "text": [
      "[1, 2, 3, 4]\n"
     ]
    },
    {
     "data": {
      "text/plain": [
       "array([1, 2, 3, 4])"
      ]
     },
     "execution_count": 5,
     "metadata": {},
     "output_type": "execute_result"
    }
   ],
   "source": [
    "# create array\n",
    "\n",
    "var1 =[1,2,3,4]\n",
    "print(var1)\n",
    "np.array(var1)"
   ]
  },
  {
   "cell_type": "code",
   "execution_count": 7,
   "id": "e3e7658a-1c8d-4760-8ae4-704147d0c017",
   "metadata": {},
   "outputs": [
    {
     "name": "stdout",
     "output_type": "stream",
     "text": [
      "[1, 2, 3, 4]\n"
     ]
    },
    {
     "data": {
      "text/plain": [
       "array([1, 2, 3, 4])"
      ]
     },
     "execution_count": 7,
     "metadata": {},
     "output_type": "execute_result"
    }
   ],
   "source": [
    "print(var1)\n",
    "array = np.array(var1)\n",
    "array"
   ]
  },
  {
   "cell_type": "code",
   "execution_count": 13,
   "id": "4ccc3249-b8b3-4295-bfb1-c1e75d4dc4f7",
   "metadata": {},
   "outputs": [
    {
     "name": "stdout",
     "output_type": "stream",
     "text": [
      "[1, 3, 4, 8]\n"
     ]
    },
    {
     "data": {
      "text/plain": [
       "array([1, 3, 4, 8])"
      ]
     },
     "execution_count": 13,
     "metadata": {},
     "output_type": "execute_result"
    }
   ],
   "source": [
    "var2 =[1,3,4,8]\n",
    "print(var2)\n",
    "np.array(var2)"
   ]
  },
  {
   "cell_type": "code",
   "execution_count": 21,
   "id": "7187f2c7-1c5c-4964-ba1c-c10fd1d5cbdb",
   "metadata": {},
   "outputs": [
    {
     "name": "stdout",
     "output_type": "stream",
     "text": [
      "['x' 'y' 'z']\n"
     ]
    },
    {
     "data": {
      "text/plain": [
       "array(['x', 'y', 'z'], dtype='<U1')"
      ]
     },
     "execution_count": 21,
     "metadata": {},
     "output_type": "execute_result"
    }
   ],
   "source": [
    "var1 = np.array(['x','y','z'])\n",
    "print(var1)\n",
    "array = np.array(var1)\n",
    "array"
   ]
  },
  {
   "cell_type": "code",
   "execution_count": 23,
   "id": "71f33d06-d792-4a83-ba9d-4f3f78d99b8e",
   "metadata": {},
   "outputs": [
    {
     "name": "stdout",
     "output_type": "stream",
     "text": [
      "['A' 'b' 'c' 'd' '2']\n"
     ]
    }
   ],
   "source": [
    "var1 = np.array(['A', 'b','c','d',2])\n",
    "print(var1)"
   ]
  },
  {
   "cell_type": "markdown",
   "id": "1802952d-8d7e-458a-bbc9-670fe70ec28f",
   "metadata": {},
   "source": [
    "## Random"
   ]
  },
  {
   "cell_type": "code",
   "execution_count": 26,
   "id": "24c37c3a-fa3b-49eb-9154-306f925d9208",
   "metadata": {},
   "outputs": [
    {
     "name": "stdout",
     "output_type": "stream",
     "text": [
      "[0.50941127 0.29882011 0.48368097 0.72916573 0.07954215 0.24473732\n",
      " 0.55275282 0.54287999 0.02479085 0.37498506 0.44866119 0.5723813\n",
      " 0.8874069  0.43861353 0.2586565  0.40437664 0.19104066 0.9640829\n",
      " 0.93849123 0.97711373]\n"
     ]
    }
   ],
   "source": [
    "random_numbers = np.random.random(size=20)\n",
    "print(random_numbers)"
   ]
  },
  {
   "cell_type": "code",
   "execution_count": 30,
   "id": "53110e24-33aa-427a-930e-3097a36d6bc0",
   "metadata": {},
   "outputs": [
    {
     "name": "stdout",
     "output_type": "stream",
     "text": [
      "[[0.35918863 0.15743516 0.14555628]\n",
      " [0.88935609 0.43650176 0.82708668]]\n"
     ]
    }
   ],
   "source": [
    "random = np.random.rand(2,3)\n",
    "print(random)\n"
   ]
  },
  {
   "cell_type": "code",
   "execution_count": 39,
   "id": "8bb95b4d-3a1f-4dee-9a1d-151069ad5adb",
   "metadata": {},
   "outputs": [
    {
     "name": "stdout",
     "output_type": "stream",
     "text": [
      "[[0.67817402 0.51077887 0.37931717 0.53325956 0.68920606]\n",
      " [0.2805925  0.0684553  0.05520094 0.05370239 0.84346167]\n",
      " [0.09553045 0.39077447 0.1212698  0.39795781 0.92879613]]\n"
     ]
    }
   ],
   "source": [
    "random = np.random.rand(3,5)\n",
    "print(random)"
   ]
  },
  {
   "cell_type": "code",
   "execution_count": 41,
   "id": "f0af8099-2dcf-4967-919c-8c7c5770f23b",
   "metadata": {},
   "outputs": [
    {
     "name": "stdout",
     "output_type": "stream",
     "text": [
      "[[0.56727436 0.07118452 0.39519511]\n",
      " [0.74892843 0.61753929 0.17335553]\n",
      " [0.82741566 0.30213315 0.13877033]\n",
      " [0.61974835 0.48082198 0.96351989]\n",
      " [0.7258234  0.67575865 0.60913327]\n",
      " [0.73717893 0.09462829 0.89489902]\n",
      " [0.97011484 0.71875768 0.83423871]\n",
      " [0.21948554 0.34974667 0.80343678]\n",
      " [0.41012014 0.70731026 0.87591662]\n",
      " [0.07298505 0.4507222  0.18987971]\n",
      " [0.07158861 0.9375829  0.37983143]]\n"
     ]
    }
   ],
   "source": [
    "random = np.random.rand(11,3)\n",
    "print(random)"
   ]
  },
  {
   "cell_type": "code",
   "execution_count": 49,
   "id": "6cd06d8e-fbcc-4283-9cbd-03bd4eb4c52b",
   "metadata": {},
   "outputs": [
    {
     "name": "stdout",
     "output_type": "stream",
     "text": [
      "[[0.71956268 0.82554599 0.98995378 0.9978524  0.86455918 0.79335895\n",
      "  0.47658225 0.35783643 0.13027552 0.16664924]\n",
      " [0.09116421 0.05067048 0.88195674 0.58389403 0.48301106 0.4476105\n",
      "  0.15939232 0.10146273 0.46228894 0.46731675]\n",
      " [0.19114853 0.07661685 0.35397808 0.1048075  0.42398549 0.50643643\n",
      "  0.9386675  0.00212619 0.03878932 0.01220899]]\n"
     ]
    }
   ],
   "source": [
    "random = np.random.rand(3,10)\n",
    "print(random)"
   ]
  },
  {
   "cell_type": "code",
   "execution_count": 55,
   "id": "551f4407-a055-40f9-832d-277fb4336231",
   "metadata": {},
   "outputs": [
    {
     "name": "stdout",
     "output_type": "stream",
     "text": [
      "[[0.02924316 0.89888607]\n",
      " [0.50518849 0.64857843]\n",
      " [0.71395928 0.83568862]\n",
      " [0.38649008 0.5879999 ]\n",
      " [0.68332642 0.56513809]]\n"
     ]
    }
   ],
   "source": [
    "random = np.random.rand(5,2)\n",
    "print(random)"
   ]
  },
  {
   "cell_type": "code",
   "execution_count": 53,
   "id": "27311e2d-2202-433e-9a29-458d1e248bf1",
   "metadata": {},
   "outputs": [
    {
     "name": "stdout",
     "output_type": "stream",
     "text": [
      "[[0.59745172 0.22962222]\n",
      " [0.69967678 0.12409607]\n",
      " [0.27455537 0.86882741]\n",
      " [0.27740112 0.3407112 ]]\n"
     ]
    }
   ],
   "source": [
    "random = np.random.rand(4,2)\n",
    "print(random)"
   ]
  },
  {
   "cell_type": "code",
   "execution_count": 57,
   "id": "0bc38283-0985-4831-8475-45f59a95bccc",
   "metadata": {},
   "outputs": [
    {
     "name": "stdout",
     "output_type": "stream",
     "text": [
      "[[ 1.65989787 -1.29467061  0.39327211]\n",
      " [-0.12078723  0.95722308  0.42252862]]\n"
     ]
    }
   ],
   "source": [
    "random = np.random.randn(2,3)\n",
    "print(random)"
   ]
  },
  {
   "cell_type": "code",
   "execution_count": 59,
   "id": "9da104c4-c763-4678-bb73-77cecbfdb5f3",
   "metadata": {},
   "outputs": [
    {
     "name": "stdout",
     "output_type": "stream",
     "text": [
      "[[-0.7039122   0.72745429 -1.57100536  1.3169273   0.14384114]\n",
      " [-0.51687288  0.06503144 -0.6237025   1.72619796  1.06288334]\n",
      " [-1.09445708 -0.53920016 -0.87802349  0.62617234  1.32855907]]\n"
     ]
    }
   ],
   "source": [
    "random = np.random.randn(3,5)\n",
    "print(random)"
   ]
  },
  {
   "cell_type": "code",
   "execution_count": 61,
   "id": "22842f61-6521-4704-ac4a-ed2bada9b21c",
   "metadata": {},
   "outputs": [
    {
     "name": "stdout",
     "output_type": "stream",
     "text": [
      "[[0.56378172 0.25852191 0.24710746 0.92352256 0.99065382 0.90555252]\n",
      " [0.10423052 0.56355254 0.77953065 0.47051733 0.38777224 0.47500096]\n",
      " [0.96170643 0.53280563 0.23628652 0.02479252 0.88243963 0.73765172]\n",
      " [0.32644126 0.97228435 0.75559656 0.98979508 0.65010577 0.24606051]\n",
      " [0.83631456 0.89471994 0.08703189 0.97820487 0.64658266 0.49349699]]\n"
     ]
    }
   ],
   "source": [
    "random = np.random.rand(5,6)\n",
    "print(random)"
   ]
  },
  {
   "cell_type": "code",
   "execution_count": 63,
   "id": "7ac77b0d-dd02-4353-8e83-5e05cf83ca12",
   "metadata": {},
   "outputs": [
    {
     "name": "stdout",
     "output_type": "stream",
     "text": [
      "5\n"
     ]
    }
   ],
   "source": [
    "random = np.random.randint(2,10)\n",
    "print(random)"
   ]
  },
  {
   "cell_type": "code",
   "execution_count": 65,
   "id": "23d139a6-16e8-47d9-9ec8-98d9dd7d1bae",
   "metadata": {},
   "outputs": [
    {
     "name": "stdout",
     "output_type": "stream",
     "text": [
      "[44 99 37 35 26 76 51 97 79 14]\n"
     ]
    }
   ],
   "source": [
    "random = np.random.randint(10,100,10)\n",
    "print(random)"
   ]
  },
  {
   "cell_type": "code",
   "execution_count": 67,
   "id": "bbe72526-07a1-4203-86c8-e4bc38e890b3",
   "metadata": {},
   "outputs": [
    {
     "name": "stdout",
     "output_type": "stream",
     "text": [
      "[28 19 46 43 35 28 45 35 33 41]\n"
     ]
    }
   ],
   "source": [
    "random = np.random.randint(10,50,10)\n",
    "print(random)"
   ]
  },
  {
   "cell_type": "markdown",
   "id": "07f5af94-ea50-408c-8017-41676d986ff8",
   "metadata": {},
   "source": [
    "## Arange(imp)"
   ]
  },
  {
   "cell_type": "code",
   "execution_count": 78,
   "id": "184629d0-48f0-476a-b0a8-2e3c00be95eb",
   "metadata": {},
   "outputs": [
    {
     "name": "stdout",
     "output_type": "stream",
     "text": [
      "[10 12 14 16 18 20 22 24 26 28 30 32 34 36 38 40 42 44 46 48 50 52 54 56\n",
      " 58 60 62 64 66 68 70 72 74 76 78 80 82 84 86 88 90 92 94 96 98]\n"
     ]
    },
    {
     "data": {
      "text/plain": [
       "numpy.ndarray"
      ]
     },
     "execution_count": 78,
     "metadata": {},
     "output_type": "execute_result"
    }
   ],
   "source": [
    "even_nums = np.arange(start = 10, stop = 100, step = 2)\n",
    "print(even_nums)\n",
    "type(even_nums)"
   ]
  },
  {
   "cell_type": "code",
   "execution_count": 80,
   "id": "4de3b81e-301d-4cbb-a529-d7f44d83a327",
   "metadata": {},
   "outputs": [
    {
     "name": "stdout",
     "output_type": "stream",
     "text": [
      "[ 20  22  24  26  28  30  32  34  36  38  40  42  44  46  48  50  52  54\n",
      "  56  58  60  62  64  66  68  70  72  74  76  78  80  82  84  86  88  90\n",
      "  92  94  96  98 100 102 104 106 108 110 112 114 116 118 120 122 124 126\n",
      " 128 130 132 134 136 138 140 142 144 146 148 150 152 154 156 158 160 162\n",
      " 164 166 168 170 172 174 176 178 180 182 184 186 188 190 192 194 196 198]\n"
     ]
    },
    {
     "data": {
      "text/plain": [
       "numpy.ndarray"
      ]
     },
     "execution_count": 80,
     "metadata": {},
     "output_type": "execute_result"
    }
   ],
   "source": [
    "odd_nums = np.arange(start = 20, stop = 200, step = 2)\n",
    "print(odd_nums)\n",
    "type(odd_nums)"
   ]
  },
  {
   "cell_type": "markdown",
   "id": "98d23cce-f868-4f1f-988c-28b928bd216c",
   "metadata": {},
   "source": [
    "## linspace"
   ]
  },
  {
   "cell_type": "code",
   "execution_count": 82,
   "id": "a8ff5c2d-7379-4e59-83cc-cc1232dcde46",
   "metadata": {},
   "outputs": [
    {
     "data": {
      "text/plain": [
       "array([  1.  ,  25.75,  50.5 ,  75.25, 100.  ])"
      ]
     },
     "execution_count": 82,
     "metadata": {},
     "output_type": "execute_result"
    }
   ],
   "source": [
    "np.linspace(1,100,5)"
   ]
  },
  {
   "cell_type": "code",
   "execution_count": 86,
   "id": "493c9709-a25e-470c-b6ae-e834bd6be0b8",
   "metadata": {},
   "outputs": [
    {
     "data": {
      "text/plain": [
       "array([  1. ,  20.8,  40.6,  60.4,  80.2, 100. ])"
      ]
     },
     "execution_count": 86,
     "metadata": {},
     "output_type": "execute_result"
    }
   ],
   "source": [
    "np.linspace(1,100,6)"
   ]
  },
  {
   "cell_type": "code",
   "execution_count": 90,
   "id": "a7fc3c8e-d6af-4c00-b40a-18ec5d0b1177",
   "metadata": {},
   "outputs": [
    {
     "data": {
      "text/plain": [
       "array([  1. ,  50.5, 100. ])"
      ]
     },
     "execution_count": 90,
     "metadata": {},
     "output_type": "execute_result"
    }
   ],
   "source": [
    "np.linspace(1,100,3)"
   ]
  },
  {
   "cell_type": "code",
   "execution_count": 92,
   "id": "3892e91b-20ba-48be-8657-c65c6049552a",
   "metadata": {},
   "outputs": [
    {
     "name": "stdout",
     "output_type": "stream",
     "text": [
      "[10.         14.44444444 18.88888889 23.33333333 27.77777778 32.22222222\n",
      " 36.66666667 41.11111111 45.55555556 50.        ]\n"
     ]
    }
   ],
   "source": [
    "random = np.linspace(10,50,10)\n",
    "print(random)"
   ]
  },
  {
   "cell_type": "code",
   "execution_count": 94,
   "id": "d9963821-baa7-4341-a273-4f3315613c65",
   "metadata": {},
   "outputs": [
    {
     "data": {
      "text/plain": [
       "array([1., 1., 1., 1., 1., 1., 1., 1., 1., 1.])"
      ]
     },
     "execution_count": 94,
     "metadata": {},
     "output_type": "execute_result"
    }
   ],
   "source": [
    "np.ones(10)"
   ]
  },
  {
   "cell_type": "code",
   "execution_count": 100,
   "id": "6c715159-8b7f-48cb-8fbb-8c703b04eb26",
   "metadata": {},
   "outputs": [
    {
     "data": {
      "text/plain": [
       "array([0., 0., 0., 0., 0., 0., 0., 0., 0., 0.])"
      ]
     },
     "execution_count": 100,
     "metadata": {},
     "output_type": "execute_result"
    }
   ],
   "source": [
    "np.zeros(10)"
   ]
  },
  {
   "cell_type": "code",
   "execution_count": 102,
   "id": "2b154926-b3c5-461a-b73b-f499958be105",
   "metadata": {},
   "outputs": [
    {
     "data": {
      "text/plain": [
       "(array([1., 1., 1., 1., 1., 1., 1., 1., 1., 1.]),\n",
       " array([0., 0., 0., 0., 0., 0., 0., 0., 0., 0.]))"
      ]
     },
     "execution_count": 102,
     "metadata": {},
     "output_type": "execute_result"
    }
   ],
   "source": [
    "np.ones(10),np.zeros(10)"
   ]
  },
  {
   "cell_type": "code",
   "execution_count": 120,
   "id": "f183286f-42b0-408f-96e7-3b09ecf7f580",
   "metadata": {},
   "outputs": [
    {
     "data": {
      "text/plain": [
       "array([[         0, 1072693248,          0],\n",
       "       [1078542336,          0, 1079574528]])"
      ]
     },
     "execution_count": 120,
     "metadata": {},
     "output_type": "execute_result"
    }
   ],
   "source": [
    "np.empty((2,3),dtype='int')"
   ]
  },
  {
   "cell_type": "code",
   "execution_count": 126,
   "id": "61d2abb1-9e21-43fb-8a8e-0e40bbbcde14",
   "metadata": {},
   "outputs": [
    {
     "data": {
      "text/plain": [
       "array([[1.01855798e-312, 1.10343781e-312, 1.01855798e-312],\n",
       "       [9.54898106e-313, 1.01855798e-312, 1.03977794e-312],\n",
       "       [1.23075756e-312, 1.10343781e-312, 1.12465777e-312],\n",
       "       [9.76118064e-313, 1.10343781e-312, 1.90979621e-312]])"
      ]
     },
     "execution_count": 126,
     "metadata": {},
     "output_type": "execute_result"
    }
   ],
   "source": [
    "np.empty((4,3),dtype='float')"
   ]
  },
  {
   "cell_type": "code",
   "execution_count": 124,
   "id": "751c508d-92b3-486a-bd89-cc7600d20034",
   "metadata": {},
   "outputs": [
    {
     "data": {
      "text/plain": [
       "array([[None, None, None]], dtype=object)"
      ]
     },
     "execution_count": 124,
     "metadata": {},
     "output_type": "execute_result"
    }
   ],
   "source": [
    "np.empty((1,3),dtype='object')"
   ]
  },
  {
   "cell_type": "code",
   "execution_count": 134,
   "id": "36c50ba6-c0c5-4272-a646-be21efb701b7",
   "metadata": {},
   "outputs": [
    {
     "data": {
      "text/plain": [
       "array([[11, 11, 11],\n",
       "       [11, 11, 11],\n",
       "       [11, 11, 11]])"
      ]
     },
     "execution_count": 134,
     "metadata": {},
     "output_type": "execute_result"
    }
   ],
   "source": [
    "np.full((3,3), fill_value = 11)\n"
   ]
  },
  {
   "cell_type": "code",
   "execution_count": 136,
   "id": "2750a45e-b3b0-4f22-9f4a-6041a2c258f0",
   "metadata": {},
   "outputs": [
    {
     "data": {
      "text/plain": [
       "array([[1., 0., 0., 0., 0.],\n",
       "       [0., 1., 0., 0., 0.],\n",
       "       [0., 0., 1., 0., 0.],\n",
       "       [0., 0., 0., 1., 0.],\n",
       "       [0., 0., 0., 0., 1.]])"
      ]
     },
     "execution_count": 136,
     "metadata": {},
     "output_type": "execute_result"
    }
   ],
   "source": [
    "np.identity(5)"
   ]
  },
  {
   "cell_type": "code",
   "execution_count": 140,
   "id": "217528c0-3adc-4f73-b04d-b1faa34e9548",
   "metadata": {},
   "outputs": [
    {
     "data": {
      "text/plain": [
       "array([[10, 10, 10, 10, 10],\n",
       "       [10, 10, 10, 10, 10],\n",
       "       [10, 10, 10, 10, 10],\n",
       "       [10, 10, 10, 10, 10]])"
      ]
     },
     "execution_count": 140,
     "metadata": {},
     "output_type": "execute_result"
    }
   ],
   "source": [
    "np.full((4,5), fill_value = 10)"
   ]
  },
  {
   "cell_type": "code",
   "execution_count": 142,
   "id": "ca1063be-57f8-403d-898f-dbd7b157cecd",
   "metadata": {},
   "outputs": [
    {
     "data": {
      "text/plain": [
       "array([[1., 0., 0., 0., 0., 0., 0.],\n",
       "       [0., 1., 0., 0., 0., 0., 0.],\n",
       "       [0., 0., 1., 0., 0., 0., 0.],\n",
       "       [0., 0., 0., 1., 0., 0., 0.],\n",
       "       [0., 0., 0., 0., 1., 0., 0.],\n",
       "       [0., 0., 0., 0., 0., 1., 0.],\n",
       "       [0., 0., 0., 0., 0., 0., 1.]])"
      ]
     },
     "execution_count": 142,
     "metadata": {},
     "output_type": "execute_result"
    }
   ],
   "source": [
    "np.identity(7)"
   ]
  },
  {
   "cell_type": "code",
   "execution_count": 146,
   "id": "6afb7ad7-a833-40e2-8195-273ae01e85ba",
   "metadata": {},
   "outputs": [
    {
     "data": {
      "text/plain": [
       "array([[1., 0., 0., 0., 0.],\n",
       "       [0., 1., 0., 0., 0.],\n",
       "       [0., 0., 1., 0., 0.],\n",
       "       [0., 0., 0., 1., 0.],\n",
       "       [0., 0., 0., 0., 1.]])"
      ]
     },
     "execution_count": 146,
     "metadata": {},
     "output_type": "execute_result"
    }
   ],
   "source": [
    "np.identity(5)"
   ]
  },
  {
   "cell_type": "code",
   "execution_count": 150,
   "id": "d85558df-a24d-4064-acdd-262dd874c1c8",
   "metadata": {},
   "outputs": [
    {
     "data": {
      "text/plain": [
       "array([[1., 0., 0., 0., 0.],\n",
       "       [0., 1., 0., 0., 0.],\n",
       "       [0., 0., 1., 0., 0.],\n",
       "       [0., 0., 0., 1., 0.],\n",
       "       [0., 0., 0., 0., 1.]])"
      ]
     },
     "execution_count": 150,
     "metadata": {},
     "output_type": "execute_result"
    }
   ],
   "source": [
    "np.eye(5,5,0)"
   ]
  },
  {
   "cell_type": "code",
   "execution_count": 152,
   "id": "c4ad3caa-0236-4139-8791-c8648aa71ca0",
   "metadata": {},
   "outputs": [
    {
     "data": {
      "text/plain": [
       "array([[0., 0., 0., 1., 0.],\n",
       "       [0., 0., 0., 0., 1.],\n",
       "       [0., 0., 0., 0., 0.],\n",
       "       [0., 0., 0., 0., 0.],\n",
       "       [0., 0., 0., 0., 0.]])"
      ]
     },
     "execution_count": 152,
     "metadata": {},
     "output_type": "execute_result"
    }
   ],
   "source": [
    "np.eye(5,5,3)"
   ]
  },
  {
   "cell_type": "code",
   "execution_count": 154,
   "id": "afa3356f-7bce-4a08-b34e-fba57fdbc38a",
   "metadata": {},
   "outputs": [
    {
     "data": {
      "text/plain": [
       "array([[0., 0., 0., 0., 0.],\n",
       "       [1., 0., 0., 0., 0.],\n",
       "       [0., 1., 0., 0., 0.],\n",
       "       [0., 0., 1., 0., 0.],\n",
       "       [0., 0., 0., 1., 0.]])"
      ]
     },
     "execution_count": 154,
     "metadata": {},
     "output_type": "execute_result"
    }
   ],
   "source": [
    "np.eye(5,5,-1)"
   ]
  },
  {
   "cell_type": "code",
   "execution_count": 156,
   "id": "72458375-4040-44ff-9312-1dd14dce05f3",
   "metadata": {},
   "outputs": [
    {
     "data": {
      "text/plain": [
       "array([[0., 0., 0., 0.],\n",
       "       [0., 0., 0., 0.],\n",
       "       [1., 0., 0., 0.],\n",
       "       [0., 1., 0., 0.]])"
      ]
     },
     "execution_count": 156,
     "metadata": {},
     "output_type": "execute_result"
    }
   ],
   "source": [
    "np.eye(4,4,-2)"
   ]
  },
  {
   "cell_type": "code",
   "execution_count": 158,
   "id": "7c792621-523e-46a3-8d42-d83eea7a3dd7",
   "metadata": {},
   "outputs": [
    {
     "data": {
      "text/plain": [
       "array([[1., 0., 0.],\n",
       "       [0., 1., 0.],\n",
       "       [0., 0., 1.]])"
      ]
     },
     "execution_count": 158,
     "metadata": {},
     "output_type": "execute_result"
    }
   ],
   "source": [
    "np.eye(3,3,0)"
   ]
  },
  {
   "cell_type": "code",
   "execution_count": 162,
   "id": "abbf3b74-a25c-464c-ac07-3221d0e9047d",
   "metadata": {},
   "outputs": [
    {
     "data": {
      "text/plain": [
       "array([[0., 0., 0., 0., 0., 0.],\n",
       "       [0., 0., 0., 0., 0., 0.],\n",
       "       [1., 0., 0., 0., 0., 0.],\n",
       "       [0., 1., 0., 0., 0., 0.],\n",
       "       [0., 0., 1., 0., 0., 0.],\n",
       "       [0., 0., 0., 1., 0., 0.]])"
      ]
     },
     "execution_count": 162,
     "metadata": {},
     "output_type": "execute_result"
    }
   ],
   "source": [
    "np.eye(6,6,-2)"
   ]
  },
  {
   "cell_type": "markdown",
   "id": "62640167-7dd4-4874-a7c9-1429d18d9e03",
   "metadata": {},
   "source": [
    "## Shape"
   ]
  },
  {
   "cell_type": "code",
   "execution_count": 168,
   "id": "fd50515a-64eb-4302-8222-adb73281568a",
   "metadata": {},
   "outputs": [],
   "source": [
    "a = np.array(((1,2,3),(2,3,4)))\n",
    "#a.ndim"
   ]
  },
  {
   "cell_type": "code",
   "execution_count": 166,
   "id": "cc8ca7d6-36fd-4c1a-8118-5aeee0811b5b",
   "metadata": {},
   "outputs": [
    {
     "name": "stdout",
     "output_type": "stream",
     "text": [
      "No of rows: 2\n",
      "No of columns: 3\n"
     ]
    }
   ],
   "source": [
    "row,col = a.shape\n",
    "\n",
    "print(f'No of rows: {row}\\nNo of columns: {col}')"
   ]
  },
  {
   "cell_type": "code",
   "execution_count": 174,
   "id": "191a7bcc-9e05-42a7-a4aa-2b92b2ffe462",
   "metadata": {},
   "outputs": [
    {
     "data": {
      "text/plain": [
       "array([[1, 2, 3],\n",
       "       [2, 5, 6],\n",
       "       [2, 3, 4]])"
      ]
     },
     "execution_count": 174,
     "metadata": {},
     "output_type": "execute_result"
    }
   ],
   "source": [
    "a = np.array(((1,2,3),(2,5,6),(2,3,4)))\n",
    "a"
   ]
  },
  {
   "cell_type": "code",
   "execution_count": null,
   "id": "cc6aa603-f0f9-44ac-ad90-57b32d3ccd89",
   "metadata": {},
   "outputs": [],
   "source": [
    "row,col = a.shape\n",
    "size = a.size\n",
    "\n",
    "print(f'No of rows: {row}\\nNo of columns: {col}')\n",
    "print(f'size of array: {size})"
   ]
  },
  {
   "cell_type": "code",
   "execution_count": 11,
   "id": "a128c58c-acc6-40e0-9739-a28dd9157195",
   "metadata": {},
   "outputs": [
    {
     "name": "stdout",
     "output_type": "stream",
     "text": [
      "last element:  ['Jessica' '34']\n"
     ]
    }
   ],
   "source": [
    "data_scientists = np.array([(\"Charles\", 18),(\"Logan\" ,20),(\"Jessica\" ,34)])\n",
    "print(\"last element: \",data_scientists[-1])"
   ]
  },
  {
   "cell_type": "code",
   "execution_count": 13,
   "id": "c8a2fa3e-5388-4963-a60a-7d76f5815780",
   "metadata": {},
   "outputs": [
    {
     "name": "stdout",
     "output_type": "stream",
     "text": [
      "element at index position 1:  ['Logan' '20']\n"
     ]
    }
   ],
   "source": [
    "data_scientists = np.array([(\"Charles\", 18),(\"Logan\" ,20),(\"Jessica\" ,34)])\n",
    "print(\"element at index position 1: \",data_scientists[1])"
   ]
  },
  {
   "cell_type": "code",
   "execution_count": 15,
   "id": "e6aa1f2a-ccf2-4935-a628-98e3d87c085d",
   "metadata": {},
   "outputs": [
    {
     "data": {
      "text/plain": [
       "'18'"
      ]
     },
     "execution_count": 15,
     "metadata": {},
     "output_type": "execute_result"
    }
   ],
   "source": [
    "data_scientists = np.array([(\"Charles\", 18),(\"Logan\" ,20),(\"Jessica\" ,34)])\n",
    "data_scientists[0][1]"
   ]
  },
  {
   "cell_type": "code",
   "execution_count": null,
   "id": "7d60b822-fc58-46f9-a9f2-1f6455e3eec0",
   "metadata": {},
   "outputs": [],
   "source": [
    "import matplotlib.pyplot as plt\n",
    "\n",
    "im = plt.imread('download.png')\n",
    "\n",
    "im.shape,im.size"
   ]
  },
  {
   "cell_type": "code",
   "execution_count": 27,
   "id": "6d808113-cb0b-4c71-9607-499519d85576",
   "metadata": {},
   "outputs": [
    {
     "name": "stdout",
     "output_type": "stream",
     "text": [
      "update_array: [ 2  4  6  8 10]\n"
     ]
    }
   ],
   "source": [
    "num_array = np.array([1,2,3,4,5])\n",
    "print('update_array:', num_array*2)"
   ]
  },
  {
   "cell_type": "code",
   "execution_count": 29,
   "id": "9fb8d5b1-311b-43a3-afcb-3ec46dfaf2d5",
   "metadata": {},
   "outputs": [
    {
     "name": "stdout",
     "output_type": "stream",
     "text": [
      "element-wise multiplication:\n",
      " [[ 4  0  2]\n",
      " [ 8 -6  0]]\n"
     ]
    }
   ],
   "source": [
    "m1 = np.array([[1,0,2],[4,-2,3]])\n",
    "m2 = np.array([[4,0,1],[2,3,0]])\n",
    "prod = m1*m2\n",
    "print('element-wise multiplication:\\n',prod)"
   ]
  },
  {
   "cell_type": "code",
   "execution_count": 31,
   "id": "255861b2-9a0f-4350-9d38-410f622017a8",
   "metadata": {},
   "outputs": [
    {
     "name": "stdout",
     "output_type": "stream",
     "text": [
      "matrix multiplication:\n",
      " [[ 6  8]\n",
      " [15  6]]\n"
     ]
    }
   ],
   "source": [
    "m1 = np.array([[1,0,2],[4,-2,3]])\n",
    "m2 = np.array([[4,0],[2,3],[1,4]])\n",
    "multi = m1.dot(m2)\n",
    "print('matrix multiplication:\\n',multi)"
   ]
  },
  {
   "cell_type": "code",
   "execution_count": 33,
   "id": "1a7a257d-531a-4144-9ea6-4aff3eeb2dd3",
   "metadata": {},
   "outputs": [
    {
     "name": "stdout",
     "output_type": "stream",
     "text": [
      "minimum salary in array:  1000\n"
     ]
    }
   ],
   "source": [
    "salary = np.array([10000, 2000, 45000, 980000, 1000, 75500])\n",
    "print(\"minimum salary in array: \",salary.min())"
   ]
  },
  {
   "cell_type": "code",
   "execution_count": 35,
   "id": "2d242df2-fa06-46d3-a4f5-f3ca66383cd0",
   "metadata": {},
   "outputs": [
    {
     "name": "stdout",
     "output_type": "stream",
     "text": [
      "maximum salary in array:  980000\n"
     ]
    }
   ],
   "source": [
    "salary = np.array([10000, 2000, 45000, 980000, 1000, 75500])\n",
    "print(\"maximum salary in array: \",salary.max())"
   ]
  },
  {
   "cell_type": "code",
   "execution_count": 37,
   "id": "04e53aed-1598-4e8c-a52f-8d6b57881d2d",
   "metadata": {},
   "outputs": [
    {
     "name": "stdout",
     "output_type": "stream",
     "text": [
      "variance is salaries:  126930534722.22223\n"
     ]
    }
   ],
   "source": [
    "salary = np.array([10000, 2000, 45000, 980000, 1000, 75500])\n",
    "print(\"variance is salaries: \",salary.var())"
   ]
  },
  {
   "cell_type": "code",
   "execution_count": 39,
   "id": "1d926eb3-5358-4fcc-94fc-a6e92b37504b",
   "metadata": {},
   "outputs": [
    {
     "name": "stdout",
     "output_type": "stream",
     "text": [
      "standard deviation in employee salaries:  356273.1181582779\n"
     ]
    }
   ],
   "source": [
    "salary = np.array([10000, 2000, 45000, 980000, 1000, 75500])\n",
    "print(\"standard deviation in employee salaries: \",salary.std())"
   ]
  },
  {
   "cell_type": "code",
   "execution_count": 41,
   "id": "9128cd32-f4e2-4f3e-8801-9eff0285d150",
   "metadata": {},
   "outputs": [
    {
     "name": "stdout",
     "output_type": "stream",
     "text": [
      "Area of squares:  [ 400 1225 1600 3600 5625]\n"
     ]
    }
   ],
   "source": [
    "sq_sides = np.array([20, 35, 40, 60, 75])\n",
    "print(\"Area of squares: \",np.square(sq_sides))"
   ]
  },
  {
   "cell_type": "code",
   "execution_count": 43,
   "id": "2f3f7dc5-eca3-4107-8b72-f654697a54d6",
   "metadata": {},
   "outputs": [
    {
     "name": "stdout",
     "output_type": "stream",
     "text": [
      "volume of cubes:  [  8000  42875  64000 216000 421875]\n"
     ]
    }
   ],
   "source": [
    "cube_sides = np.array([20, 35, 40, 60, 75])\n",
    "print(\"volume of cubes: \",np.power(cube_sides,3))"
   ]
  },
  {
   "cell_type": "code",
   "execution_count": 47,
   "id": "aa6b5aed-08b3-4191-973d-4f07e82bb86c",
   "metadata": {},
   "outputs": [
    {
     "name": "stdout",
     "output_type": "stream",
     "text": [
      "\n",
      "original matrix:  [['Charles' '18']\n",
      " ['Logan' '20']\n",
      " ['Jessica' '34']]\n"
     ]
    }
   ],
   "source": [
    "data_scientists = np.array([(\"Charles\", 18),(\"Logan\", 20),(\"Jessica\" , 34)])\n",
    "print(\"\\noriginal matrix: \", data_scientists)"
   ]
  },
  {
   "cell_type": "code",
   "execution_count": 49,
   "id": "4b2dd318-832e-4981-92f8-65db35d00171",
   "metadata": {},
   "outputs": [
    {
     "name": "stdout",
     "output_type": "stream",
     "text": [
      "\n",
      "oTranspose:  [['Charles' 'Logan' 'Jessica']\n",
      " ['18' '20' '34']]\n"
     ]
    }
   ],
   "source": [
    "data_scientists = np.array([(\"Charles\", 18),(\"Logan\", 20),(\"Jessica\" , 34)])\n",
    "print(\"\\noTranspose: \",np.transpose (data_scientists))"
   ]
  },
  {
   "cell_type": "code",
   "execution_count": 53,
   "id": "a1ab3597-f0cf-43db-9c38-71bb5ef38adb",
   "metadata": {},
   "outputs": [
    {
     "name": "stdout",
     "output_type": "stream",
     "text": [
      "concatenate array:  [19 20 22 30 40 73 45 68 19 30]\n"
     ]
    }
   ],
   "source": [
    "age = np.array([19,20,22,30,40])\n",
    "weight = np.array([73,45,68,19,30])\n",
    "employees = np.concatenate([age,weight])\n",
    "print(\"concatenate array: \",employees)"
   ]
  },
  {
   "cell_type": "code",
   "execution_count": 57,
   "id": "e7c00d1b-f1da-43d6-b69f-8f704f22345d",
   "metadata": {},
   "outputs": [
    {
     "name": "stdout",
     "output_type": "stream",
     "text": [
      "Before Reshaping = [ 1  2  3  4  5  6  7  8  9 10 11 12]\n"
     ]
    }
   ],
   "source": [
    "arr = np.array([1,2,3,4,5,6,7,8,9,10,11,12])\n",
    "newarr = arr.reshape(4,3)\n",
    "print('Before Reshaping =',arr)"
   ]
  },
  {
   "cell_type": "code",
   "execution_count": 73,
   "id": "0d280ccf-5b07-4fac-804c-fba06c9d7e7b",
   "metadata": {},
   "outputs": [
    {
     "name": "stdout",
     "output_type": "stream",
     "text": [
      "After Reshaping =\n",
      " [[ 1  2  3]\n",
      " [ 4  5  6]\n",
      " [ 7  8  9]\n",
      " [10 11 12]]\n"
     ]
    }
   ],
   "source": [
    "arr = np.array([1,2,3,4,5,6,7,8,9,10,11,12])\n",
    "newarr = arr.reshape(4,3)\n",
    "print('After Reshaping =\\n',newarr)"
   ]
  },
  {
   "cell_type": "code",
   "execution_count": 75,
   "id": "d5223df0-7232-4b4e-ade7-2749e21505d8",
   "metadata": {},
   "outputs": [
    {
     "name": "stdout",
     "output_type": "stream",
     "text": [
      "Before Reshaping = [ 1  2  3  4  5  6  7  8  9 10 11 12]\n",
      "After Reshaping =\n",
      " [[ 1  2  3]\n",
      " [ 4  5  6]\n",
      " [ 7  8  9]\n",
      " [10 11 12]]\n"
     ]
    }
   ],
   "source": [
    "arr = np.array([1,2,3,4,5,6,7,8,9,10,11,12])\n",
    "newarr = arr.reshape(4,3)\n",
    "print('Before Reshaping =',arr)\n",
    "print('After Reshaping =\\n',newarr)"
   ]
  },
  {
   "cell_type": "code",
   "execution_count": 77,
   "id": "d06a8d6d-d01d-4048-b701-554051d7f309",
   "metadata": {},
   "outputs": [
    {
     "data": {
      "text/plain": [
       "array([[ 5],\n",
       "       [ 6],\n",
       "       [96],\n",
       "       [36],\n",
       "       [ 8],\n",
       "       [ 3]])"
      ]
     },
     "execution_count": 77,
     "metadata": {},
     "output_type": "execute_result"
    }
   ],
   "source": [
    "a =np.array([5,6,96,36,8,3])\n",
    "np.vstack(a)"
   ]
  },
  {
   "cell_type": "code",
   "execution_count": 9,
   "id": "70a42514-693e-4fde-8fab-1d92d46d0f1a",
   "metadata": {},
   "outputs": [
    {
     "ename": "FileNotFoundError",
     "evalue": "[Errno 2] No such file or directory: 'cat.png'",
     "output_type": "error",
     "traceback": [
      "\u001b[1;31m---------------------------------------------------------------------------\u001b[0m",
      "\u001b[1;31mFileNotFoundError\u001b[0m                         Traceback (most recent call last)",
      "Cell \u001b[1;32mIn[9], line 3\u001b[0m\n\u001b[0;32m      1\u001b[0m \u001b[38;5;28;01mimport\u001b[39;00m \u001b[38;5;21;01mmatplotlib\u001b[39;00m\u001b[38;5;21;01m.\u001b[39;00m\u001b[38;5;21;01mpyplot\u001b[39;00m \u001b[38;5;28;01mas\u001b[39;00m \u001b[38;5;21;01mplt\u001b[39;00m\n\u001b[1;32m----> 3\u001b[0m im \u001b[38;5;241m=\u001b[39m plt\u001b[38;5;241m.\u001b[39mimread(\u001b[38;5;124m\"\u001b[39m\u001b[38;5;124mcat.png\u001b[39m\u001b[38;5;124m\"\u001b[39m)\n\u001b[0;32m      4\u001b[0m plt\u001b[38;5;241m.\u001b[39mimshow(im)\n",
      "File \u001b[1;32mC:\\ProgramData\\anaconda3\\Lib\\site-packages\\matplotlib\\pyplot.py:2404\u001b[0m, in \u001b[0;36mimread\u001b[1;34m(fname, format)\u001b[0m\n\u001b[0;32m   2400\u001b[0m \u001b[38;5;129m@_copy_docstring_and_deprecators\u001b[39m(matplotlib\u001b[38;5;241m.\u001b[39mimage\u001b[38;5;241m.\u001b[39mimread)\n\u001b[0;32m   2401\u001b[0m \u001b[38;5;28;01mdef\u001b[39;00m \u001b[38;5;21mimread\u001b[39m(\n\u001b[0;32m   2402\u001b[0m         fname: \u001b[38;5;28mstr\u001b[39m \u001b[38;5;241m|\u001b[39m pathlib\u001b[38;5;241m.\u001b[39mPath \u001b[38;5;241m|\u001b[39m BinaryIO, \u001b[38;5;28mformat\u001b[39m: \u001b[38;5;28mstr\u001b[39m \u001b[38;5;241m|\u001b[39m \u001b[38;5;28;01mNone\u001b[39;00m \u001b[38;5;241m=\u001b[39m \u001b[38;5;28;01mNone\u001b[39;00m\n\u001b[0;32m   2403\u001b[0m ) \u001b[38;5;241m-\u001b[39m\u001b[38;5;241m>\u001b[39m np\u001b[38;5;241m.\u001b[39mndarray:\n\u001b[1;32m-> 2404\u001b[0m     \u001b[38;5;28;01mreturn\u001b[39;00m matplotlib\u001b[38;5;241m.\u001b[39mimage\u001b[38;5;241m.\u001b[39mimread(fname, \u001b[38;5;28mformat\u001b[39m)\n",
      "File \u001b[1;32mC:\\ProgramData\\anaconda3\\Lib\\site-packages\\matplotlib\\image.py:1525\u001b[0m, in \u001b[0;36mimread\u001b[1;34m(fname, format)\u001b[0m\n\u001b[0;32m   1518\u001b[0m \u001b[38;5;28;01mif\u001b[39;00m \u001b[38;5;28misinstance\u001b[39m(fname, \u001b[38;5;28mstr\u001b[39m) \u001b[38;5;129;01mand\u001b[39;00m \u001b[38;5;28mlen\u001b[39m(parse\u001b[38;5;241m.\u001b[39murlparse(fname)\u001b[38;5;241m.\u001b[39mscheme) \u001b[38;5;241m>\u001b[39m \u001b[38;5;241m1\u001b[39m:\n\u001b[0;32m   1519\u001b[0m     \u001b[38;5;66;03m# Pillow doesn't handle URLs directly.\u001b[39;00m\n\u001b[0;32m   1520\u001b[0m     \u001b[38;5;28;01mraise\u001b[39;00m \u001b[38;5;167;01mValueError\u001b[39;00m(\n\u001b[0;32m   1521\u001b[0m         \u001b[38;5;124m\"\u001b[39m\u001b[38;5;124mPlease open the URL for reading and pass the \u001b[39m\u001b[38;5;124m\"\u001b[39m\n\u001b[0;32m   1522\u001b[0m         \u001b[38;5;124m\"\u001b[39m\u001b[38;5;124mresult to Pillow, e.g. with \u001b[39m\u001b[38;5;124m\"\u001b[39m\n\u001b[0;32m   1523\u001b[0m         \u001b[38;5;124m\"\u001b[39m\u001b[38;5;124m``np.array(PIL.Image.open(urllib.request.urlopen(url)))``.\u001b[39m\u001b[38;5;124m\"\u001b[39m\n\u001b[0;32m   1524\u001b[0m         )\n\u001b[1;32m-> 1525\u001b[0m \u001b[38;5;28;01mwith\u001b[39;00m img_open(fname) \u001b[38;5;28;01mas\u001b[39;00m image:\n\u001b[0;32m   1526\u001b[0m     \u001b[38;5;28;01mreturn\u001b[39;00m (_pil_png_to_float_array(image)\n\u001b[0;32m   1527\u001b[0m             \u001b[38;5;28;01mif\u001b[39;00m \u001b[38;5;28misinstance\u001b[39m(image, PIL\u001b[38;5;241m.\u001b[39mPngImagePlugin\u001b[38;5;241m.\u001b[39mPngImageFile) \u001b[38;5;28;01melse\u001b[39;00m\n\u001b[0;32m   1528\u001b[0m             pil_to_array(image))\n",
      "File \u001b[1;32mC:\\ProgramData\\anaconda3\\Lib\\site-packages\\PIL\\ImageFile.py:125\u001b[0m, in \u001b[0;36mImageFile.__init__\u001b[1;34m(self, fp, filename)\u001b[0m\n\u001b[0;32m    121\u001b[0m \u001b[38;5;28mself\u001b[39m\u001b[38;5;241m.\u001b[39mdecodermaxblock \u001b[38;5;241m=\u001b[39m MAXBLOCK\n\u001b[0;32m    123\u001b[0m \u001b[38;5;28;01mif\u001b[39;00m is_path(fp):\n\u001b[0;32m    124\u001b[0m     \u001b[38;5;66;03m# filename\u001b[39;00m\n\u001b[1;32m--> 125\u001b[0m     \u001b[38;5;28mself\u001b[39m\u001b[38;5;241m.\u001b[39mfp \u001b[38;5;241m=\u001b[39m \u001b[38;5;28mopen\u001b[39m(fp, \u001b[38;5;124m\"\u001b[39m\u001b[38;5;124mrb\u001b[39m\u001b[38;5;124m\"\u001b[39m)\n\u001b[0;32m    126\u001b[0m     \u001b[38;5;28mself\u001b[39m\u001b[38;5;241m.\u001b[39mfilename \u001b[38;5;241m=\u001b[39m fp\n\u001b[0;32m    127\u001b[0m     \u001b[38;5;28mself\u001b[39m\u001b[38;5;241m.\u001b[39m_exclusive_fp \u001b[38;5;241m=\u001b[39m \u001b[38;5;28;01mTrue\u001b[39;00m\n",
      "\u001b[1;31mFileNotFoundError\u001b[0m: [Errno 2] No such file or directory: 'cat.png'"
     ]
    }
   ],
   "source": [
    "import matplotlib.pyplot as plt\n",
    "\n",
    "im = plt.imread(\"cat.png\")\n",
    "plt.imshow(im) "
   ]
  },
  {
   "cell_type": "code",
   "execution_count": null,
   "id": "517d4936-1250-4723-917d-11b52fae4787",
   "metadata": {},
   "outputs": [],
   "source": []
  }
 ],
 "metadata": {
  "kernelspec": {
   "display_name": "Python 3 (ipykernel)",
   "language": "python",
   "name": "python3"
  },
  "language_info": {
   "codemirror_mode": {
    "name": "ipython",
    "version": 3
   },
   "file_extension": ".py",
   "mimetype": "text/x-python",
   "name": "python",
   "nbconvert_exporter": "python",
   "pygments_lexer": "ipython3",
   "version": "3.12.4"
  }
 },
 "nbformat": 4,
 "nbformat_minor": 5
}
